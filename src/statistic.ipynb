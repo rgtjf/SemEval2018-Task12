{
 "cells": [
  {
   "cell_type": "code",
   "execution_count": 1,
   "metadata": {
    "collapsed": true
   },
   "outputs": [
    {
     "name": "stdout",
     "output_type": "stream",
     "text": [
      "['', '/home/junfeng/anaconda3/lib/python35.zip', '/home/junfeng/anaconda3/lib/python3.5', '/home/junfeng/anaconda3/lib/python3.5/plat-linux', '/home/junfeng/anaconda3/lib/python3.5/lib-dynload', '/home/junfeng/.local/lib/python3.5/site-packages', '/home/junfeng/.local/lib/python3.5/site-packages/MatchZoo-0.2.0-py3.5.egg', '/home/junfeng/anaconda3/lib/python3.5/site-packages', '/home/junfeng/anaconda3/lib/python3.5/site-packages/Sphinx-1.3.5-py3.5.egg', '/home/junfeng/anaconda3/lib/python3.5/site-packages/torchtext-0.1.1-py3.5.egg', '/home/junfeng/anaconda3/lib/python3.5/site-packages/xgboost-0.4-py3.5.egg', '/home/junfeng/anaconda3/lib/python3.5/site-packages/readline-6.2.4.1-py3.5-linux-x86_64.egg', '/home/junfeng/anaconda3/lib/python3.5/site-packages/MatchZoo-0.2.0-py3.5.egg', '/home/junfeng/anaconda3/lib/python3.5/site-packages/tqdm-4.19.5-py3.5.egg', '/home/junfeng/anaconda3/lib/python3.5/site-packages/IPython/extensions', '/home/junfeng/.ipython', '/home/junfeng/workspace/SemEval18/src']\n"
     ]
    },
    {
     "name": "stdout",
     "output_type": "stream",
     "text": [
      "**************************************************\n"
     ]
    },
    {
     "name": "stdout",
     "output_type": "stream",
     "text": [
      "Load Data, file_path=/home/junfeng/workspace/SemEval18/data/train-w-swap-full.txt  n_line=2420\n\n**************************************************\n"
     ]
    },
    {
     "name": "stdout",
     "output_type": "stream",
     "text": [
      "Load Data, file_path=/home/junfeng/workspace/SemEval18/data/dev-full.txt  n_line=316\n\n**************************************************\n"
     ]
    },
    {
     "name": "stdout",
     "output_type": "stream",
     "text": [
      "Load Data, file_path=/home/junfeng/workspace/SemEval18/data/test-full-tmp.txt  n_line=444\n\n"
     ]
    }
   ],
   "source": [
    "# coding: utf8\n",
    "from __future__ import print_function\n",
    "import sys\n",
    "sys.path.append('/home/junfeng/workspace/SemEval18/src')\n",
    "print(sys.path)\n",
    "from input import data\n",
    "import config\n",
    "\n",
    "train_file = config.train_file\n",
    "train_instances = data.load_parse_data(train_file)\n",
    "\n",
    "dev_file = config.dev_file\n",
    "dev_instances = data.load_parse_data(dev_file)\n",
    "\n",
    "test_file = config.test_file\n",
    "test_instances = data.load_parse_data(test_file)"
   ]
  },
  {
   "cell_type": "code",
   "execution_count": 14,
   "metadata": {},
   "outputs": [
    {
     "name": "stdout",
     "output_type": "stream",
     "text": [
      "111\n[('Do We Still Need Libraries ?', 142), ('Do Colleges Need French Departments ?', 108), ('Is Veganism Good For Everyone ?', 84), ('Making Vaccination Mandatory for All Children', 76), ('Should Salt Have a Place at the Table ?', 68), ('Do Unpaid Internships Exploit College Students ?', 60), ('Dropping the Ball', 60), ('Has Support for Israel Hurt U.S. Credibility ?', 50), ('Should Home-Schoolers Play for High School Teams ?', 50), ('To Tip or Not to Tip', 48)]\n"
     ]
    }
   ],
   "source": [
    "# how many unique topic in train\n",
    "from collections import Counter\n",
    "train_instances[0].get_title(type='word', return_str=True)\n",
    "counter = Counter()\n",
    "for train_instance in train_instances:\n",
    "    title = train_instance.get_title(type='word', return_str=True)\n",
    "    counter[title] += 1\n",
    "print(len(counter))\n",
    "print(counter.most_common(10))"
   ]
  },
  {
   "cell_type": "code",
   "execution_count": 16,
   "metadata": {},
   "outputs": [
    {
     "name": "stdout",
     "output_type": "stream",
     "text": [
      "31\n[('Should It Be Illegal to Declaw Your Cat ?', 40), ('Can Companies Be Trusted ?', 39), ('Is Home Birth Ever a Safe Choice ?', 24), (\"Parents ' Beliefs vs. Their Children 's Health\", 20), ('Is It Fair to Rate Professors Online ?', 16), ('Should Drug Addicts Be Forced Into Treatment ?', 16), ('Are Same-Sex Colleges Still Relevant ?', 15), (\"Should ` Birthright Citizenship ' Be Abolished ?\", 14), ('Is Immigration Really a Problem ?', 13), ('Is Overcrowding a Legitimate Threat ?', 11)]\n"
     ]
    }
   ],
   "source": [
    "# how many unique topic in train\n",
    "from collections import Counter\n",
    "counter = Counter()\n",
    "for train_instance in dev_instances:\n",
    "    title = train_instance.get_title(type='word', return_str=True)\n",
    "    counter[title] += 1\n",
    "print(len(counter))\n",
    "print(counter.most_common(10))"
   ]
  },
  {
   "cell_type": "code",
   "execution_count": 2,
   "metadata": {},
   "outputs": [
    {
     "name": "stdout",
     "output_type": "stream",
     "text": [
      "30\n[('Have Comment Sections Failed ?', 136), ('Can a Supreme Court Justice Denounce a Candidate ?', 53), ('Have Christians Created a Harmful Atmosphere for Gays ?', 35), ('Are Medical Websites Healthful ?', 28), ('Is Marijuana a Gateway Drug ?', 21), ('Should Brazil Postpone the Olympics ?', 15), ('Should College Be Free ?', 13), ('Should Felons Ever Be Allowed to Vote ?', 13), ('Should Guns Be Permitted on College Campuses ?', 10), ('Should Opioid Training for Doctors Be Mandatory ?', 10)]\n"
     ]
    }
   ],
   "source": [
    "# how many unique topic in train\n",
    "from collections import Counter\n",
    "counter = Counter()\n",
    "for train_instance in test_instances:\n",
    "    title = train_instance.get_title(type='word', return_str=True)\n",
    "    counter[title] += 1\n",
    "print(len(counter))\n",
    "print(counter.most_common(10))"
   ]
  },
  {
   "cell_type": "code",
   "execution_count": 13,
   "metadata": {},
   "outputs": [
    {
     "name": "stdout",
     "output_type": "stream",
     "text": [
      "111\n[('Do We Still Need Libraries ?', 142), ('Do Colleges Need French Departments ?', 108), ('Is Veganism Good For Everyone ?', 84), ('Making Vaccination Mandatory for All Children', 76), ('Should Salt Have a Place at the Table ?', 68), ('Do Unpaid Internships Exploit College Students ?', 60), ('Dropping the Ball', 60), ('Has Support for Israel Hurt U.S. Credibility ?', 50), ('Should Home-Schoolers Play for High School Teams ?', 50), (\"Are New York 's Bike Lanes Working ?\", 48), ('To Tip or Not to Tip', 48), ('Can Young Students Learn From Online Classes ?', 46), ('Does Tenure Protect Bad Teachers or Good Schools ?', 46), ('Should the Government Grade Colleges ?', 44), ('Are Casinos Too Much of a Gamble ?', 40), ('Are People Getting Dumber ?', 38), ('Can Dual Citizens Be Good Americans ?', 36), ('Is Obamacare Working ?', 36), ('Did Colorado Go Too Far With Pot ?', 36), ('Should Doping Be Allowed ?', 34)]\n30 t: Do Home Schoolers Deserve a Tax Break ?\nHome schoolers do not deserve a tax break\tHome schoolers deserve a tax break\n28 t: Are School Librarians Expendable ?\nSchool librarians are expendable\tSchool librarians are not expendable\n28 t: Should Women Delay Motherhood ?\nWomen should not delay motherhood\tWomen should delay motherhood\n24 t: Are Banks Making Too Much Money From Fees ?\nFees are necessary\tFees should be more regulated\n10 t: Is Nuclear Power the Answer ?\nNuclear power is not the answer to climate change\tNuclear power is the answer to climate change\n28 t: Is Public Preschool a Smart Investment ?\nPublic preschool is not a smart investment\tPublic preschool is a smart investment\n30 t: Do We Need the C.I.A. ?\nWe need the C.I.A.\tWe do n't need the C.I.A.\n34 t: Should Doping Be Allowed ?\nDoping should be allowed\tDoping should not be allowed\n8 t: Will Greece Destroy the Euro Zone ?\nGreece will not destroy the Euro Zone\tGreece will destroy the Euro Zone\n20 t: Should the U.S. Work With Assad to Fight ISIS ?\nThe U.S. should work with Assad to fight ISIS\tThe U.S. should not work with Assad to fight ISIS\n12 t: When Companies Close Doors to the Future\nBusinesses should be allowed to have new employees sign noncompete deals\tBusinesses should not be allowed to have new employees sign noncompete deals\n18 t: Should Voting Be Mandatory ?\nVoting should be mandatory\tVoting should not be mandatory\n6 t: Can a Royal Couple Be a Modern Family ?\nRoyal Couple could not be a modern family\tRoyal Couple could be a modern family\n32 t: Is an Attack on Syria Justified ?\nUS should not attack Syria\tUS should attack Syria\n36 t: Can Dual Citizens Be Good Americans ?\nDual citizenship should be allowed\tDual citizenship should not be allowed\n18 t: Are Court Stenographers Necessary ?\nCourt stenographers are necessary\tCourt stenographers are not necessary\n20 t: Do We Really Need FEMA ?\nWe do n't need FEMA\tWe need FEMA\n10 t: Adulthood , Delayed or Forgone ?\nYoung people are being smart by delaying the rituals of adult life\tYoung people are being irresponsible by delaying the rituals of adult life\n14 t: Has NATO Outlived Its Usefulness ?\nWe should disband NATO\tWe should keep NATO\n12 t: Can Wal-Mart Make Us Healthier ?\nWal-Mart ca n't make us healthier\tWal-Mart can make us healthier\n22 t: Should All Immigrants Get ID Cards ?\nAll immigrants should not get ID cards\tAll immigrants should get ID cards\n30 t: Should We Stop Taxing Capital Gains ?\nStop taxing capital gains\tDo not stop taxing capital gains\n8 t: Should We Manipulate Our Dreams ?\nWe should not manipulate our dreams\tWe should manipulate our dreams\n8 t: Should College Be for Everyone ?\nCollege free for everyone\tCollege not free for everyone\n44 t: Should the Government Grade Colleges ?\nGovernment should grade colleges\tGovernment should not grade colleges\n36 t: Is Obamacare Working ?\nObamacare is not working\tObamacare is working\n20 t: Should Internet Gambling Be Legalized ?\nInternet gambling should be legalized\tInternet gambling should not be legalized\n12 t: Do We Need to Hear From the Candidate 's Spouse ?\nWe do n't need to hear from candidate 's spouse\tWe need to hear from candidate 's spouse\n60 t: Do Unpaid Internships Exploit College Students ?\nUnpaid internship does n't exploit college students\tUnpaid internship exploit college students\n60 t: Dropping the Ball\nDrop sports program in undergraduate schools\tDo not drop sports program in undergraduate schools\n4 t: Should the U.S. Keep Selling Arms to Taiwan ?\nKeep selling arms to Taiwan\tStop selling arms to Taiwan\n48 t: Are New York 's Bike Lanes Working ?\nNew York 's bike lanes are working\tNew York 's bike lanes are not working\n10 t: Do Teachers Need to Have Experience ?\nTeachers need to have experience\tTeachers do not need to have experience\n24 t: Should Students Live on Campus or Off ?\nStudents should live off campus\tStudents should live on campus\n50 t: Should Home-Schoolers Play for High School Teams ?\nHome-schoolers should not play for high school teams\tHome-schoolers should play for high school teams\n28 t: Will 3-D Printing Change the World ?\n3-D printing will not change the world\t3-D printing will change the world\n6 t: Do Wealthy Colleges Deserve Their Tax Breaks ?\nWealthy colleges deserve tax breaks\tWealthy colleges do not deserve tax breaks\n26 t: Is Extreme Parenting Effective ?\nExtreme parenting is counterproductive\tExtreme parenting leads to greater success\n30 t: Could Farms Survive Without Illegal Labor ?\nFarms could survive without illegal labor\tFarms could n't survive without illegal labor\n22 t: Does California Need High-Speed Rail ?\nCalifornia does n't need high-speed rail\tCalifornia needs high-speed rail\n16 t: Should Queen Elizabeth II Step Down ?\nQueen Elizabeth II should not step down\tQueen Elizabeth II should step down\n20 t: Do We Need More Advice About Eating Well ?\nWe need more advice about eating well\tWe do not need more advice about eating well\n10 t: Should Germany Abandon the Euro ?\nGermany should abandon the Euro\tGermany should not abandon the Euro\n28 t: Should Legislation Protect the Obese ?\nLegislation should protect obese\tLegislation should not protect obese\n10 t: You Can Track Your Kids . But Should You ?\nTracking kids invades privacy\tTracking kids does not invade privacy\n76 t: Making Vaccination Mandatory for All Children\nVaccination should be mandatory for all children\tVaccination should not be mandatory for all children\n84 t: Is Veganism Good For Everyone ?\nVeganism is good for everyone\tVeganism is not good for everyone\n48 t: To Tip or Not to Tip\nNot to tip\tTo tip\n28 t: Is Prostitution Safer When It 's Legal ?\nProstitution is not safer when it 's legal\tProstitution is safer when it 's legal\n46 t: Can Young Students Learn From Online Classes ?\nOnline classes are the best way to teach\tOnline classes are not the best way to teach\n22 t: Raise the Rim ?\nRim should not be raised\tRim should be raised\n22 t: Is Organic Food Worth the Expense ?\nOrganic food is not worth the expense\tOrganic food is worth the expense\n108 t: Do Colleges Need French Departments ?\nColleges need humanities programs\tColleges do not need humanities programs\n20 t: Do Drone Attacks Do More Harm Than Good ?\nDrone attacks make more harm\tDrone attacts make more good\n10 t: Should Voting Be a Constitutional Right ?\nVoting should be a constitutional right\tVoting should not be a constitutional right\n20 t: Teaching : The Passion and the Profession\nTFA has raised the status of public teachers\tTFA has not raised the status of teachers\n46 t: Does Tenure Protect Bad Teachers or Good Schools ?\nTenure protects bad teachers\tTenure provides stability\n12 t: There She Is , Miss America\nMiss America is bad for women\tMiss America is good for women\n"
     ]
    }
   ],
   "source": [
    "# how many unique topic in train\n",
    "from collections import Counter\n",
    "counter = Counter()\n",
    "title_dict = {}\n",
    "for train_instance in train_instances:\n",
    "    title = train_instance.get_title(type='word', return_str=True)\n",
    "    claim = train_instance.get_claim(type='word', return_str=True)\n",
    "    counter[title] += 1\n",
    "    if title not in title_dict:\n",
    "        title_dict[title] = []\n",
    "    title_dict[title].append(claim)\n",
    "print(len(counter))\n",
    "print(counter.most_common(20))\n",
    "for title in title_dict:\n",
    "    claims = list(set(title_dict[title]))\n",
    "    if len(claims) > 1:\n",
    "        print(counter[title], 't: ' + title)\n",
    "        print('\\t'.join(claims))\n",
    "        assert len(claims) == 2"
   ]
  },
  {
   "cell_type": "code",
   "execution_count": null,
   "metadata": {},
   "outputs": [],
   "source": [
    ""
   ]
  }
 ],
 "metadata": {
  "kernelspec": {
   "display_name": "Python 2",
   "language": "python",
   "name": "python2"
  },
  "language_info": {
   "codemirror_mode": {
    "name": "ipython",
    "version": 2.0
   },
   "file_extension": ".py",
   "mimetype": "text/x-python",
   "name": "python",
   "nbconvert_exporter": "python",
   "pygments_lexer": "ipython2",
   "version": "2.7.6"
  }
 },
 "nbformat": 4,
 "nbformat_minor": 0
}